{
 "cells": [
  {
   "cell_type": "code",
   "execution_count": 1,
   "metadata": {},
   "outputs": [],
   "source": [
    "import collections"
   ]
  },
  {
   "cell_type": "code",
   "execution_count": 2,
   "metadata": {},
   "outputs": [],
   "source": [
    "Scientist = collections.namedtuple('Scientist', [\n",
    "    'name',\n",
    "    'field',\n",
    "    'born',\n",
    "    'nobel',\n",
    "])"
   ]
  },
  {
   "cell_type": "code",
   "execution_count": 3,
   "metadata": {},
   "outputs": [],
   "source": [
    "Scientists = (\n",
    "    Scientist(name='Ada Lovelace', field='math', born=1815, nobel=False),\n",
    "    Scientist(name='Emmy Noether', field='math', born=1882, nobel=False),\n",
    "    Scientist(name='Marie Curie', field='math', born=1867, nobel=True),\n",
    "    Scientist(name='Tu Youyou', field='physics', born=1930, nobel=True),\n",
    "    Scientist(name='Ada Yonath', field='chemistry', born=1939, nobel=True),\n",
    "    Scientist(name='Vera Rubin', field='chemistry', born=1928, nobel=False),\n",
    "    Scientist(name='Sally Ride', field='physics', born=1951, nobel=False),\n",
    ")"
   ]
  },
  {
   "cell_type": "code",
   "execution_count": 4,
   "metadata": {},
   "outputs": [],
   "source": [
    "fs = filter(lambda x: x.nobel is True, Scientists)"
   ]
  },
  {
   "cell_type": "code",
   "execution_count": 5,
   "metadata": {},
   "outputs": [
    {
     "data": {
      "text/plain": [
       "<filter at 0x221f7952fd0>"
      ]
     },
     "execution_count": 5,
     "metadata": {},
     "output_type": "execute_result"
    }
   ],
   "source": [
    "fs"
   ]
  },
  {
   "cell_type": "code",
   "execution_count": 6,
   "metadata": {},
   "outputs": [
    {
     "data": {
      "text/plain": [
       "Scientist(name='Marie Curie', field='math', born=1867, nobel=True)"
      ]
     },
     "execution_count": 6,
     "metadata": {},
     "output_type": "execute_result"
    }
   ],
   "source": [
    "next(fs)"
   ]
  },
  {
   "cell_type": "code",
   "execution_count": 7,
   "metadata": {},
   "outputs": [
    {
     "data": {
      "text/plain": [
       "Scientist(name='Tu Youyou', field='physics', born=1930, nobel=True)"
      ]
     },
     "execution_count": 7,
     "metadata": {},
     "output_type": "execute_result"
    }
   ],
   "source": [
    "next(fs)"
   ]
  },
  {
   "cell_type": "code",
   "execution_count": 8,
   "metadata": {},
   "outputs": [
    {
     "data": {
      "text/plain": [
       "Scientist(name='Ada Yonath', field='chemistry', born=1939, nobel=True)"
      ]
     },
     "execution_count": 8,
     "metadata": {},
     "output_type": "execute_result"
    }
   ],
   "source": [
    "next(fs)"
   ]
  },
  {
   "cell_type": "code",
   "execution_count": 9,
   "metadata": {},
   "outputs": [
    {
     "ename": "StopIteration",
     "evalue": "",
     "output_type": "error",
     "traceback": [
      "\u001b[1;31m---------------------------------------------------------------------------\u001b[0m",
      "\u001b[1;31mStopIteration\u001b[0m                             Traceback (most recent call last)",
      "\u001b[1;32m<ipython-input-9-cc337a681289>\u001b[0m in \u001b[0;36m<module>\u001b[1;34m\u001b[0m\n\u001b[1;32m----> 1\u001b[1;33m \u001b[0mnext\u001b[0m\u001b[1;33m(\u001b[0m\u001b[0mfs\u001b[0m\u001b[1;33m)\u001b[0m\u001b[1;33m\u001b[0m\u001b[1;33m\u001b[0m\u001b[0m\n\u001b[0m",
      "\u001b[1;31mStopIteration\u001b[0m: "
     ]
    }
   ],
   "source": [
    "next(fs)"
   ]
  },
  {
   "cell_type": "code",
   "execution_count": 10,
   "metadata": {},
   "outputs": [
    {
     "data": {
      "text/plain": [
       "(Scientist(name='Marie Curie', field='math', born=1867, nobel=True),\n",
       " Scientist(name='Tu Youyou', field='physics', born=1930, nobel=True),\n",
       " Scientist(name='Ada Yonath', field='chemistry', born=1939, nobel=True))"
      ]
     },
     "execution_count": 10,
     "metadata": {},
     "output_type": "execute_result"
    }
   ],
   "source": [
    "fs = tuple(filter(lambda x: x.nobel is True, Scientists))\n",
    "fs"
   ]
  },
  {
   "cell_type": "code",
   "execution_count": 11,
   "metadata": {},
   "outputs": [
    {
     "data": {
      "text/plain": [
       "(Scientist(name='Ada Lovelace', field='math', born=1815, nobel=False),\n",
       " Scientist(name='Emmy Noether', field='math', born=1882, nobel=False),\n",
       " Scientist(name='Marie Curie', field='math', born=1867, nobel=True),\n",
       " Scientist(name='Tu Youyou', field='physics', born=1930, nobel=True),\n",
       " Scientist(name='Ada Yonath', field='chemistry', born=1939, nobel=True),\n",
       " Scientist(name='Vera Rubin', field='chemistry', born=1928, nobel=False),\n",
       " Scientist(name='Sally Ride', field='physics', born=1951, nobel=False))"
      ]
     },
     "execution_count": 11,
     "metadata": {},
     "output_type": "execute_result"
    }
   ],
   "source": [
    "tuple(filter(lambda x: True, Scientists))"
   ]
  },
  {
   "cell_type": "code",
   "execution_count": 12,
   "metadata": {},
   "outputs": [
    {
     "data": {
      "text/plain": [
       "(Scientist(name='Tu Youyou', field='physics', born=1930, nobel=True),\n",
       " Scientist(name='Sally Ride', field='physics', born=1951, nobel=False))"
      ]
     },
     "execution_count": 12,
     "metadata": {},
     "output_type": "execute_result"
    }
   ],
   "source": [
    "tuple(filter(lambda x: x.field == 'physics', Scientists))"
   ]
  },
  {
   "cell_type": "markdown",
   "metadata": {},
   "source": [
    "Why use filter()??"
   ]
  },
  {
   "cell_type": "code",
   "execution_count": 13,
   "metadata": {},
   "outputs": [
    {
     "name": "stdout",
     "output_type": "stream",
     "text": [
      "Scientist(name='Marie Curie', field='math', born=1867, nobel=True)\n",
      "Scientist(name='Tu Youyou', field='physics', born=1930, nobel=True)\n",
      "Scientist(name='Ada Yonath', field='chemistry', born=1939, nobel=True)\n"
     ]
    }
   ],
   "source": [
    "for x in Scientists:\n",
    "    if x.nobel:\n",
    "        print(x)"
   ]
  },
  {
   "cell_type": "code",
   "execution_count": 14,
   "metadata": {},
   "outputs": [],
   "source": [
    "# we can reuse filter function with a reusable function\n",
    "def nobel_filter(x):\n",
    "    return x.name=='Ada Lovelace'"
   ]
  },
  {
   "cell_type": "code",
   "execution_count": 15,
   "metadata": {},
   "outputs": [
    {
     "data": {
      "text/plain": [
       "(Scientist(name='Ada Lovelace', field='math', born=1815, nobel=False),\n",
       " Scientist(name='Emmy Noether', field='math', born=1882, nobel=False),\n",
       " Scientist(name='Marie Curie', field='math', born=1867, nobel=True),\n",
       " Scientist(name='Tu Youyou', field='physics', born=1930, nobel=True),\n",
       " Scientist(name='Ada Yonath', field='chemistry', born=1939, nobel=True),\n",
       " Scientist(name='Vera Rubin', field='chemistry', born=1928, nobel=False),\n",
       " Scientist(name='Sally Ride', field='physics', born=1951, nobel=False))"
      ]
     },
     "execution_count": 15,
     "metadata": {},
     "output_type": "execute_result"
    }
   ],
   "source": [
    "tuple(filter(lambda x: nobel_filter, Scientists))"
   ]
  },
  {
   "cell_type": "code",
   "execution_count": 16,
   "metadata": {},
   "outputs": [
    {
     "data": {
      "text/plain": [
       "(Scientist(name='Marie Curie', field='math', born=1867, nobel=True),\n",
       " Scientist(name='Tu Youyou', field='physics', born=1930, nobel=True),\n",
       " Scientist(name='Ada Yonath', field='chemistry', born=1939, nobel=True))"
      ]
     },
     "execution_count": 16,
     "metadata": {},
     "output_type": "execute_result"
    }
   ],
   "source": [
    "tuple(x for x in Scientists if x.nobel is True)"
   ]
  }
 ],
 "metadata": {
  "kernelspec": {
   "display_name": "Python 3",
   "language": "python",
   "name": "python3"
  },
  "language_info": {
   "codemirror_mode": {
    "name": "ipython",
    "version": 3
   },
   "file_extension": ".py",
   "mimetype": "text/x-python",
   "name": "python",
   "nbconvert_exporter": "python",
   "pygments_lexer": "ipython3",
   "version": "3.8.1"
  }
 },
 "nbformat": 4,
 "nbformat_minor": 4
}
